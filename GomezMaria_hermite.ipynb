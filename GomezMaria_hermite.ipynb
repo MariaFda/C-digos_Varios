{
 "cells": [
  {
   "cell_type": "code",
   "execution_count": 11,
   "metadata": {
    "collapsed": true
   },
   "outputs": [],
   "source": [
    "import numpy as np \n",
    "import matplotlib.pyplot as plt\n",
    "from matplotlib import pyplot"
   ]
  },
  {
   "cell_type": "code",
   "execution_count": 12,
   "metadata": {
    "collapsed": false
   },
   "outputs": [],
   "source": [
    "#definimos un intervalo \n",
    "x=np.linspace(-1,1, 100)\n",
    "\n",
    "#hermite utilice la ecuacion de recirsividad para garantizar que funcione para N \n",
    "def hermite(x,n):\n",
    "    #derivada central \n",
    "    et2 = np.exp(-x**2)\n",
    "    i = 1\n",
    "    while(i <= n):\n",
    "        h = et2[1]-et2[0]\n",
    "        left = np.roll(et2,1)\n",
    "        right = np.roll(et2,-1)\n",
    "        der = (1/h)*(right-left)\n",
    "        et2 = der[2:-1]\n",
    "        x = x[2:-1]\n",
    "        i = i + 1\n",
    "    her=et2*np.exp(x**2)*(-1)**n\n",
    "    return her\n",
    "    "
   ]
  },
  {
   "cell_type": "code",
   "execution_count": 13,
   "metadata": {
    "collapsed": false
   },
   "outputs": [],
   "source": [
    "plt.plot(hermite(x,0)[0:100])\n",
    "plt.plot(hermite(x,1)[0:100])\n",
    "plt.plot(hermite(x,2)[0:100])\n",
    "plt.plot(hermite(x,3)[0:100])\n",
    "plt.plot(hermite(x,4)[0:100])\n",
    "plt.plot(hermite(x,5)[0:100])\n",
    "plt.plot(hermite(x,6)[0:100])\n",
    "plt.plot(hermite(x,7)[0:100])\n",
    "plt.legend(['n=0', 'n=1','n=2' ,'n=3', 'n=4', 'n=5', 'n=6', 'n=7'])\n",
    "plt.savefig('GomezMaria_Hermite')\n",
    "plt.close()\n",
    "\n",
    "#plt.show()"
   ]
  },
  {
   "cell_type": "code",
   "execution_count": 14,
   "metadata": {
    "collapsed": false
   },
   "outputs": [],
   "source": [
    "x1=np.linspace(-1,1, 100*10)\n",
    "plt.plot(hermite(x1,0)[0:1000])\n",
    "plt.plot(hermite(x1,1)[0:1000])\n",
    "plt.plot(hermite(x1,2)[0:1000])\n",
    "plt.plot(hermite(x1,3)[0:1000])\n",
    "plt.plot(hermite(x1,4)[0:1000])\n",
    "plt.plot(hermite(x1,5)[0:1000])\n",
    "plt.plot(hermite(x1,6)[0:1000])\n",
    "plt.plot(hermite(x1,7)[0:1000]) \n",
    "plt.legend(['n=0', 'n=1','n=2' ,'n=3', 'n=4', 'n=5', 'n=6', 'n=7'])\n",
    "plt.savefig('GomezMaria_Hermite10')\n",
    "plt.close()\n",
    "\n",
    "#plt.show()"
   ]
  },
  {
   "cell_type": "code",
   "execution_count": 15,
   "metadata": {
    "collapsed": false
   },
   "outputs": [
    {
     "data": {
      "text/plain": [
       "<matplotlib.text.Text at 0x116b88208>"
      ]
     },
     "execution_count": 15,
     "metadata": {},
     "output_type": "execute_result"
    }
   ],
   "source": [
    "x1=np.linspace(-1,1, 100*10)\n",
    "plt.plot(hermite(x1,0)[0:1000])\n",
    "plt.plot(hermite(x1,1)[0:1000])\n",
    "plt.plot(hermite(x1,2)[0:1000])\n",
    "plt.plot(hermite(x1,3)[0:1000])\n",
    "plt.plot(hermite(x1,4)[0:1000])\n",
    "plt.plot(hermite(x1,5)[0:1000])\n",
    "plt.plot(hermite(x1,6)[0:1000])\n",
    "plt.legend(['n=0', 'n=1','n=2' ,'n=3', 'n=4', 'n=5', 'n=6'])\n",
    "plt.title('Quitando el 7 para mejorar la escala')\n",
    "plt.savefig('GomezMaria_Hermite10_2')\n",
    "\n",
    "plt.close()\n",
    "#plt.show()"
   ]
  },
  {
   "cell_type": "code",
   "execution_count": null,
   "metadata": {
    "collapsed": true
   },
   "outputs": [],
   "source": []
  }
 ],
 "metadata": {
  "kernelspec": {
   "display_name": "Python 3",
   "language": "python",
   "name": "python3"
  },
  "language_info": {
   "codemirror_mode": {
    "name": "ipython",
    "version": 3
   },
   "file_extension": ".py",
   "mimetype": "text/x-python",
   "name": "python",
   "nbconvert_exporter": "python",
   "pygments_lexer": "ipython3",
   "version": "3.4.5"
  }
 },
 "nbformat": 4,
 "nbformat_minor": 2
}
