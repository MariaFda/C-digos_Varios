{
 "cells": [
  {
   "cell_type": "code",
   "execution_count": 10,
   "metadata": {
    "collapsed": true
   },
   "outputs": [],
   "source": [
    "import numpy as np"
   ]
  },
  {
   "cell_type": "code",
   "execution_count": 11,
   "metadata": {
    "collapsed": false
   },
   "outputs": [
    {
     "name": "stdout",
     "output_type": "stream",
     "text": [
      "[[-2.65532106 -2.46678627 -3.59021917 -3.19558452]\n",
      " [ 0.206027   -2.97492573  4.49923527  1.62720719]\n",
      " [-2.14404271 -3.6475364  -3.68802114  3.28708437]\n",
      " [-1.75030901  1.08429891  1.49238163 -2.21634131]]\n",
      "[-1.75030901  1.08429891  1.49238163 -2.21634131]\n"
     ]
    }
   ],
   "source": [
    "N = 4\n",
    "Mat=(np.random.random((N,N))*10.0)-5.0\n",
    "print (Mat)\n",
    "\n",
    "print(Mat[np.shape(Mat)[0]-1,:])"
   ]
  },
  {
   "cell_type": "code",
   "execution_count": 12,
   "metadata": {
    "collapsed": false
   },
   "outputs": [],
   "source": [
    "filas=np.shape(Mat)[0]\n",
    "columnas=np.shape(Mat)[1]\n",
    "\n",
    "for i in range(filas):\n",
    "    for j in range(columnas):\n",
    "        if (Mat[i,j] == 2):\n",
    "            print (Mat[i][j])\n",
    "            print(Mat[i][:])\n",
    "        \n",
    "        "
   ]
  },
  {
   "cell_type": "code",
   "execution_count": null,
   "metadata": {
    "collapsed": false
   },
   "outputs": [],
   "source": []
  },
  {
   "cell_type": "code",
   "execution_count": null,
   "metadata": {
    "collapsed": true
   },
   "outputs": [],
   "source": []
  },
  {
   "cell_type": "code",
   "execution_count": null,
   "metadata": {
    "collapsed": true
   },
   "outputs": [],
   "source": []
  }
 ],
 "metadata": {
  "kernelspec": {
   "display_name": "Python 3",
   "language": "python",
   "name": "python3"
  },
  "language_info": {
   "codemirror_mode": {
    "name": "ipython",
    "version": 3
   },
   "file_extension": ".py",
   "mimetype": "text/x-python",
   "name": "python",
   "nbconvert_exporter": "python",
   "pygments_lexer": "ipython3",
   "version": "3.4.5"
  }
 },
 "nbformat": 4,
 "nbformat_minor": 2
}
